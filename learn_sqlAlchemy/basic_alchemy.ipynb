{
 "cells": [
  {
   "cell_type": "code",
   "execution_count": 1,
   "metadata": {},
   "outputs": [
    {
     "name": "stdout",
     "output_type": "stream",
     "text": [
      "2024-10-29 13:28:13,327 INFO sqlalchemy.engine.Engine BEGIN (implicit)\n",
      "2024-10-29 13:28:13,328 INFO sqlalchemy.engine.Engine PRAGMA main.table_info(\"users\")\n",
      "2024-10-29 13:28:13,328 INFO sqlalchemy.engine.Engine [raw sql] ()\n",
      "2024-10-29 13:28:13,329 INFO sqlalchemy.engine.Engine PRAGMA temp.table_info(\"users\")\n",
      "2024-10-29 13:28:13,329 INFO sqlalchemy.engine.Engine [raw sql] ()\n",
      "2024-10-29 13:28:13,330 INFO sqlalchemy.engine.Engine \n",
      "CREATE TABLE users (\n",
      "\tid INTEGER NOT NULL, \n",
      "\tname VARCHAR, \n",
      "\tage INTEGER, \n",
      "\tPRIMARY KEY (id)\n",
      ")\n",
      "\n",
      "\n",
      "2024-10-29 13:28:13,330 INFO sqlalchemy.engine.Engine [no key 0.00023s] ()\n",
      "2024-10-29 13:28:13,331 INFO sqlalchemy.engine.Engine COMMIT\n",
      "2024-10-29 13:28:13,332 INFO sqlalchemy.engine.Engine BEGIN (implicit)\n",
      "2024-10-29 13:28:13,333 INFO sqlalchemy.engine.Engine INSERT INTO users (name, age) VALUES (?, ?)\n",
      "2024-10-29 13:28:13,333 INFO sqlalchemy.engine.Engine [generated in 0.00030s] ('Alice', 30)\n",
      "2024-10-29 13:28:13,334 INFO sqlalchemy.engine.Engine COMMIT\n",
      "2024-10-29 13:28:13,334 INFO sqlalchemy.engine.Engine BEGIN (implicit)\n",
      "2024-10-29 13:28:13,335 INFO sqlalchemy.engine.Engine SELECT users.id AS users_id, users.name AS users_name, users.age AS users_age \n",
      "FROM users\n",
      "2024-10-29 13:28:13,335 INFO sqlalchemy.engine.Engine [generated in 0.00025s] ()\n",
      "<User(name=Alice, age=30)>\n"
     ]
    },
    {
     "name": "stderr",
     "output_type": "stream",
     "text": [
      "C:\\Users\\HangDTH\\AppData\\Local\\Temp\\ipykernel_9952\\4173630923.py:10: MovedIn20Warning: The ``declarative_base()`` function is now available as sqlalchemy.orm.declarative_base(). (deprecated since: 2.0) (Background on SQLAlchemy 2.0 at: https://sqlalche.me/e/b8d9)\n",
      "  Base = declarative_base()\n"
     ]
    }
   ],
   "source": [
    "#ORM\n",
    "from sqlalchemy import create_engine, Column, Integer, String\n",
    "from sqlalchemy.ext.declarative import declarative_base\n",
    "from sqlalchemy.orm import sessionmaker\n",
    "\n",
    "# Set up the database engine (SQLite in-memory database in this example)\n",
    "engine = create_engine('sqlite:///:memory:', echo=True)\n",
    "\n",
    "# Create a base class for the models\n",
    "Base = declarative_base()\n",
    "\n",
    "# Define a model (table) class\n",
    "class User(Base):\n",
    "    __tablename__ = 'users'\n",
    "\n",
    "    id = Column(Integer, primary_key=True)\n",
    "    name = Column(String)\n",
    "    age = Column(Integer)\n",
    "\n",
    "    def __repr__(self):\n",
    "        return f\"<User(name={self.name}, age={self.age})>\"\n",
    "\n",
    "# Create the table in the database\n",
    "Base.metadata.create_all(engine)\n",
    "\n",
    "# Create a session to interact with the database\n",
    "Session = sessionmaker(bind=engine)\n",
    "session = Session()\n",
    "\n",
    "# Create and add new users to the session\n",
    "new_user = User(name='Alice', age=30)\n",
    "session.add(new_user)\n",
    "session.commit()\n",
    "\n",
    "# Query the database\n",
    "for user in session.query(User).all():\n",
    "    print(user)\n"
   ]
  },
  {
   "cell_type": "code",
   "execution_count": 2,
   "metadata": {},
   "outputs": [
    {
     "name": "stdout",
     "output_type": "stream",
     "text": [
      "INSERT INTO actors (name, fullname, body_count) VALUES (:name, :fullname, :body_count)\n"
     ]
    },
    {
     "data": {
      "text/plain": [
       "{'name': 'Graham', 'fullname': 'Graham Chapman', 'body_count': 10}"
      ]
     },
     "execution_count": 2,
     "metadata": {},
     "output_type": "execute_result"
    }
   ],
   "source": [
    "#SCHEMA - CENTRIC MODEL\n",
    "from sqlalchemy import create_engine, MetaData, Table, Column, Integer, String, ForeignKey\n",
    "engine = create_engine('sqlite:///:memory:')\n",
    "metadata = MetaData()\n",
    "users = Table('users', metadata,\n",
    "              Column('id', Integer, primary_key=True),\n",
    "              Column('name', String),\n",
    "              Column('fullname', String))\n",
    "\n",
    "actors = Table('actors', metadata,\n",
    "               Column('id', Integer, primary_key=True),\n",
    "               Column('name', String),\n",
    "               Column('fullname', String),\n",
    "               Column('body_count', Integer))\n",
    "\n",
    "roles = Table('roles', metadata,\n",
    "              Column('id', Integer, primary_key=True),\n",
    "              Column('actor_id', None, ForeignKey('actors.id')),\n",
    "              Column('character_name', String, nullable=False))\n",
    "\n",
    "metadata.create_all(engine)\n",
    "\n",
    "conn = engine.connect()\n",
    "ins = actors.insert().values(name = 'Graham', fullname = 'Graham Chapman', body_count=10)\n",
    "result = conn.execute(ins)\n",
    "result.inserted_primary_key\n",
    "\n",
    "print(str(ins))\n",
    "ins.compile().params"
   ]
  },
  {
   "cell_type": "code",
   "execution_count": 9,
   "metadata": {},
   "outputs": [
    {
     "data": {
      "text/plain": [
       "6"
      ]
     },
     "execution_count": 9,
     "metadata": {},
     "output_type": "execute_result"
    }
   ],
   "source": [
    "results = conn.execute(roles.insert(), [\n",
    "    {'actor_id': 1, 'character_name': 'King Author'},\n",
    "    {'actor_id': 1, 'character_name': 'Voice of God'},\n",
    "    {'actor_id': 2, 'character_name': 'Sir Lancelot'},\n",
    "    {'actor_id': 2, 'character_name': 'Black Knight'},\n",
    "    {'actor_id': 3, 'character_name': 'Patsy'},\n",
    "    {'actor_id': 3, 'character_name': 'Sir Bors'},\n",
    "])\n",
    "\n",
    "results.rowcount"
   ]
  },
  {
   "cell_type": "code",
   "execution_count": 16,
   "metadata": {},
   "outputs": [
    {
     "data": {
      "text/plain": [
       "0"
      ]
     },
     "execution_count": 16,
     "metadata": {},
     "output_type": "execute_result"
    }
   ],
   "source": [
    "stmt = actors.update().where(actors.c.name == 'Gram').values(name = 'Graham')\n",
    "result = conn.execute(stmt)\n",
    "result.rowcount"
   ]
  },
  {
   "cell_type": "code",
   "execution_count": 17,
   "metadata": {},
   "outputs": [
    {
     "data": {
      "text/plain": [
       "0"
      ]
     },
     "execution_count": 17,
     "metadata": {},
     "output_type": "execute_result"
    }
   ],
   "source": [
    "result = conn.execute(actors.delete().where(actors.c.name == 'Terry'))\n",
    "result.rowcount"
   ]
  },
  {
   "cell_type": "code",
   "execution_count": 20,
   "metadata": {},
   "outputs": [
    {
     "name": "stdout",
     "output_type": "stream",
     "text": [
      "(1, 'Graham', 'Graham Chapman', 10)\n"
     ]
    }
   ],
   "source": [
    "result = conn.execute(actors.select())\n",
    "for row in result:\n",
    "    print(row)"
   ]
  },
  {
   "cell_type": "code",
   "execution_count": 23,
   "metadata": {},
   "outputs": [
    {
     "data": {
      "text/plain": [
       "2"
      ]
     },
     "execution_count": 23,
     "metadata": {},
     "output_type": "execute_result"
    }
   ],
   "source": [
    "results = conn.execute(actors.insert(), [\n",
    "    {'name':'John', 'fullname':'John Cleese', 'body_count':10},\n",
    "    {'name':'Terry', 'fullname':'Terry Gilliam', 'body_count':10}\n",
    "])\n",
    "\n",
    "results.inserted_primary_key_rows\n",
    "results.rowcount"
   ]
  },
  {
   "cell_type": "code",
   "execution_count": 30,
   "metadata": {},
   "outputs": [
    {
     "name": "stdout",
     "output_type": "stream",
     "text": [
      "(1, 'Graham', 'Graham Chapman')\n",
      "(2, 'John', 'John Cleese')\n",
      "(3, 'Terry', 'Terry Gilliam')\n",
      "(4, 'John', 'John Cleese')\n",
      "(5, 'Terry', 'Terry Gilliam')\n"
     ]
    }
   ],
   "source": [
    "from sqlalchemy import select\n",
    "s = select(actors.c.id, actors.c.name, actors.c.fullname)\n",
    "result = conn.execute(s)\n",
    "for row in result:\n",
    "    print(row)"
   ]
  },
  {
   "cell_type": "code",
   "execution_count": 33,
   "metadata": {},
   "outputs": [
    {
     "data": {
      "text/plain": [
       "[('Terry',), ('Terry',), ('John',), ('John',), ('Graham',)]"
      ]
     },
     "execution_count": 33,
     "metadata": {},
     "output_type": "execute_result"
    }
   ],
   "source": [
    "st = select(actors.c.name).order_by(actors.c.name.desc())\n",
    "conn.execute(st).fetchall()"
   ]
  },
  {
   "cell_type": "code",
   "execution_count": 36,
   "metadata": {},
   "outputs": [
    {
     "data": {
      "text/plain": [
       "('John', 'John Cleese')"
      ]
     },
     "execution_count": 36,
     "metadata": {},
     "output_type": "execute_result"
    }
   ],
   "source": [
    "st = select(actors.c.name, actors.c.fullname).limit(1).offset(1)\n",
    "conn.execute(st).first()"
   ]
  },
  {
   "cell_type": "code",
   "execution_count": 41,
   "metadata": {},
   "outputs": [
    {
     "data": {
      "text/plain": [
       "5"
      ]
     },
     "execution_count": 41,
     "metadata": {},
     "output_type": "execute_result"
    }
   ],
   "source": [
    "from sqlalchemy.sql import func\n",
    "st = select(func.count()).select_from(actors)\n",
    "conn.execute(st).scalar()"
   ]
  },
  {
   "cell_type": "code",
   "execution_count": 42,
   "metadata": {},
   "outputs": [
    {
     "name": "stdout",
     "output_type": "stream",
     "text": [
      "(1, 'Graham', 'Graham Chapman', 10, 1, 1, 'King Author')\n",
      "(1, 'Graham', 'Graham Chapman', 10, 2, 1, 'Voice of God')\n",
      "(2, 'John', 'John Cleese', 10, 3, 2, 'Sir Lancelot')\n",
      "(2, 'John', 'John Cleese', 10, 4, 2, 'Black Knight')\n",
      "(3, 'Terry', 'Terry Gilliam', 10, 5, 3, 'Patsy')\n",
      "(3, 'Terry', 'Terry Gilliam', 10, 6, 3, 'Sir Bors')\n"
     ]
    }
   ],
   "source": [
    "s = select(actors, roles).where(actors.c.id == roles.c.actor_id)\n",
    "\n",
    "for row in conn.execute(s):\n",
    "    print(row)"
   ]
  },
  {
   "cell_type": "code",
   "execution_count": 43,
   "metadata": {},
   "outputs": [
    {
     "data": {
      "text/plain": [
       "[('Graham', 2), ('John', 2), ('Terry', 2)]"
      ]
     },
     "execution_count": 43,
     "metadata": {},
     "output_type": "execute_result"
    }
   ],
   "source": [
    "st = select(actors.c.name, func.count()). select_from(actors.join(roles)).group_by(actors.c.name)\n",
    "conn.execute(st).fetchall()"
   ]
  },
  {
   "cell_type": "code",
   "execution_count": 45,
   "metadata": {},
   "outputs": [
    {
     "data": {
      "text/plain": [
       "[('Graham', 'Voice of God')]"
      ]
     },
     "execution_count": 45,
     "metadata": {},
     "output_type": "execute_result"
    }
   ],
   "source": [
    "from sqlalchemy.sql import and_, or_, not_\n",
    "\n",
    "st = select(actors.c.name, \n",
    "            roles.c.character_name).where(\n",
    "                and_(actors.c.name.like('Gra%'), \n",
    "                    roles.c.character_name.like('Vo%'), \n",
    "                    actors.c.id == roles.c.actor_id))\n",
    "\n",
    "conn.execute(st).fetchall()"
   ]
  }
 ],
 "metadata": {
  "kernelspec": {
   "display_name": "Python 3",
   "language": "python",
   "name": "python3"
  },
  "language_info": {
   "codemirror_mode": {
    "name": "ipython",
    "version": 3
   },
   "file_extension": ".py",
   "mimetype": "text/x-python",
   "name": "python",
   "nbconvert_exporter": "python",
   "pygments_lexer": "ipython3",
   "version": "3.13.0"
  }
 },
 "nbformat": 4,
 "nbformat_minor": 2
}
